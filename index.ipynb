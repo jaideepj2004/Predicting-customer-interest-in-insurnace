{
 "cells": [
  {
   "cell_type": "code",
   "execution_count": 1,
   "metadata": {},
   "outputs": [
    {
     "name": "stdout",
     "output_type": "stream",
     "text": [
      "   id  Gender  Age  Driving_License  Region_Code  Previously_Insured  \\\n",
      "0   1    Male   44                1         28.0                   0   \n",
      "1   2    Male   76                1          3.0                   0   \n",
      "2   3    Male   47                1         28.0                   0   \n",
      "3   4    Male   21                1         11.0                   1   \n",
      "4   5  Female   29                1         41.0                   1   \n",
      "\n",
      "  Vehicle_Age Vehicle_Damage  Annual_Premium  Policy_Sales_Channel  Vintage  \\\n",
      "0   > 2 Years            Yes         40454.0                  26.0      217   \n",
      "1    1-2 Year             No         33536.0                  26.0      183   \n",
      "2   > 2 Years            Yes         38294.0                  26.0       27   \n",
      "3    < 1 Year             No         28619.0                 152.0      203   \n",
      "4    < 1 Year             No         27496.0                 152.0       39   \n",
      "\n",
      "   Response  \n",
      "0         1  \n",
      "1         0  \n",
      "2         1  \n",
      "3         0  \n",
      "4         0  \n"
     ]
    }
   ],
   "source": [
    "import pandas as pd\n",
    "\n",
    "# Read the CSV file into a Pandas DataFrame\n",
    "df = pd.read_csv(\"train.csv\")\n",
    "\n",
    "# Print the DataFrame (optional)\n",
    "print(df.head())\n"
   ]
  },
  {
   "cell_type": "code",
   "execution_count": 2,
   "metadata": {},
   "outputs": [
    {
     "name": "stdout",
     "output_type": "stream",
     "text": [
      "   id  Age  Driving_License  Region_Code  Previously_Insured  Annual_Premium  \\\n",
      "0   1   44                1         28.0                   0         40454.0   \n",
      "1   2   76                1          3.0                   0         33536.0   \n",
      "2   3   47                1         28.0                   0         38294.0   \n",
      "3   4   21                1         11.0                   1         28619.0   \n",
      "4   5   29                1         41.0                   1         27496.0   \n",
      "\n",
      "   Policy_Sales_Channel  Vintage  Response  Gender_Male  Vehicle_Damage_Yes  \\\n",
      "0                  26.0      217         1         True                True   \n",
      "1                  26.0      183         0         True               False   \n",
      "2                  26.0       27         1         True                True   \n",
      "3                 152.0      203         0         True               False   \n",
      "4                 152.0       39         0        False               False   \n",
      "\n",
      "   Vehicle_Age_< 1 Year  Vehicle_Age_> 2 Years  \n",
      "0                 False                   True  \n",
      "1                 False                  False  \n",
      "2                 False                   True  \n",
      "3                  True                  False  \n",
      "4                  True                  False  \n"
     ]
    }
   ],
   "source": [
    "import pandas as pd\n",
    "\n",
    "# Assuming your DataFrame is loaded as 'df' (replace with your actual DataFrame name)\n",
    "\n",
    "# One-hot encode the categorical columns\n",
    "df = pd.get_dummies(df, columns=['Gender', 'Vehicle_Damage','Vehicle_Age'], drop_first=True)\n",
    "\n",
    "# Print the DataFrame\n",
    "print(df.head())\n"
   ]
  },
  {
   "cell_type": "code",
   "execution_count": 3,
   "metadata": {},
   "outputs": [
    {
     "name": "stdout",
     "output_type": "stream",
     "text": [
      "Logistic Regression: Accuracy - 0.8746\n",
      "Naive Bayes: Accuracy - 0.7130\n",
      "SVM: Accuracy - 0.8746\n",
      "Decision Tree: Accuracy - 0.8131\n",
      "KNN: Accuracy - 0.8500\n",
      "Random Forest: Accuracy - 0.8688\n",
      "XGBoost: Accuracy - 0.8684\n",
      "Gradient Boosting: Accuracy - 0.8741\n",
      "AdaBoost: Accuracy - 0.8742\n"
     ]
    }
   ],
   "source": [
    "import pandas as pd\n",
    "from sklearn.preprocessing import StandardScaler\n",
    "from sklearn.model_selection import train_test_split\n",
    "from sklearn.linear_model import LogisticRegression\n",
    "from sklearn.naive_bayes import GaussianNB\n",
    "from sklearn.svm import SVC\n",
    "from sklearn.tree import DecisionTreeClassifier\n",
    "from sklearn.neighbors import KNeighborsClassifier\n",
    "from sklearn.ensemble import RandomForestClassifier, AdaBoostClassifier, GradientBoostingClassifier\n",
    "from xgboost import XGBClassifier\n",
    "from sklearn.metrics import accuracy_score\n",
    "\n",
    "# Separate features and target variable\n",
    "X = df.drop('Response', axis=1)\n",
    "y = df['Response']\n",
    "\n",
    "# Standard scaling\n",
    "scaler = StandardScaler()\n",
    "X_scaled = scaler.fit_transform(X)\n",
    "\n",
    "# Train-test split\n",
    "X_train, X_test, y_train, y_test = train_test_split(X_scaled, y, test_size=0.2, random_state=42)\n",
    "\n",
    "# Define models\n",
    "models = {\n",
    "    \"Logistic Regression\": LogisticRegression(),\n",
    "    \"Naive Bayes\": GaussianNB(),\n",
    "    \"SVM\": SVC(),\n",
    "    \"Decision Tree\": DecisionTreeClassifier(),\n",
    "    \"KNN\": KNeighborsClassifier(),\n",
    "    \"Random Forest\": RandomForestClassifier(),\n",
    "    \"XGBoost\": XGBClassifier(),\n",
    "    \"Gradient Boosting\": GradientBoostingClassifier(),\n",
    "    \"AdaBoost\": AdaBoostClassifier()\n",
    "}\n",
    "\n",
    "# Train and evaluate models\n",
    "for name, model in models.items():\n",
    "    model.fit(X_train, y_train)\n",
    "    y_pred = model.predict(X_test)\n",
    "    accuracy = accuracy_score(y_test, y_pred)\n",
    "    print(f\"{name}: Accuracy - {accuracy:.4f}\")\n"
   ]
  },
  {
   "cell_type": "code",
   "execution_count": 5,
   "metadata": {},
   "outputs": [
    {
     "name": "stdout",
     "output_type": "stream",
     "text": [
      "Logistic Regression: Best Parameters - {'C': 0.001, 'solver': 'liblinear'}, Best Accuracy - 0.8780\n"
     ]
    }
   ],
   "source": [
    "import pandas as pd\n",
    "from sklearn.preprocessing import StandardScaler\n",
    "from sklearn.model_selection import train_test_split, GridSearchCV\n",
    "from sklearn.linear_model import LogisticRegression\n",
    "from sklearn.svm import SVC\n",
    "from sklearn.ensemble import RandomForestClassifier\n",
    "from sklearn.metrics import accuracy_score\n",
    "\n",
    "# Separate features and target variable\n",
    "X = df.drop('Response', axis=1)\n",
    "y = df['Response']\n",
    "\n",
    "# Standard scaling\n",
    "scaler = StandardScaler()\n",
    "X_scaled = scaler.fit_transform(X)\n",
    "\n",
    "# Train-test split\n",
    "X_train, X_test, y_train, y_test = train_test_split(X_scaled, y, test_size=0.2, random_state=42)\n",
    "\n",
    "# Define top 3 models and parameter grids\n",
    "top_models = {\n",
    "    \"Logistic Regression\": LogisticRegression(),\n",
    "    \"SVM\": SVC(),\n",
    "    \"Random Forest\": RandomForestClassifier()\n",
    "}\n",
    "\n",
    "param_grids = {\n",
    "    \"Logistic Regression\": {\n",
    "        'C': [0.001, 0.01, 0.1, 1, 10, 100],\n",
    "        'solver': ['liblinear', 'lbfgs']\n",
    "    },\n",
    "    \"SVM\": {\n",
    "        'C': [0.01, 0.1, 1, 10],\n",
    "        'kernel': ['linear', 'rbf'],\n",
    "        'gamma': [0.01, 0.1, 1]\n",
    "    },\n",
    "    \"Random Forest\": {\n",
    "        'n_estimators': [100, 200, 300],\n",
    "        'max_depth': [4, 6, 8],\n",
    "        'min_samples_split': [2, 5, 10]\n",
    "    }\n",
    "}\n",
    "\n",
    "# Perform GridSearchCV for each model\n",
    "for name, model in top_models.items():\n",
    "    grid_search = GridSearchCV(model, param_grids[name], cv=5, scoring='accuracy')\n",
    "    grid_search.fit(X_train, y_train)\n",
    "    best_params = grid_search.best_params_\n",
    "    best_accuracy = grid_search.best_score_\n",
    "    print(f\"{name}: Best Parameters - {best_params}, Best Accuracy - {best_accuracy:.4f}\")\n"
   ]
  },
  {
   "cell_type": "code",
   "execution_count": null,
   "metadata": {},
   "outputs": [],
   "source": []
  }
 ],
 "metadata": {
  "kernelspec": {
   "display_name": "base",
   "language": "python",
   "name": "python3"
  },
  "language_info": {
   "codemirror_mode": {
    "name": "ipython",
    "version": 3
   },
   "file_extension": ".py",
   "mimetype": "text/x-python",
   "name": "python",
   "nbconvert_exporter": "python",
   "pygments_lexer": "ipython3",
   "version": "3.11.5"
  }
 },
 "nbformat": 4,
 "nbformat_minor": 2
}
